{
  "cells": [
    {
      "cell_type": "code",
      "execution_count": 1,
      "metadata": {
        "colab": {
          "base_uri": "https://localhost:8080/"
        },
        "id": "XTXXn841SCEi",
        "outputId": "b0643cf8-705c-4487-b562-5652443c9db9"
      },
      "outputs": [
        {
          "name": "stdout",
          "output_type": "stream",
          "text": [
            "Requirement already satisfied: river in ./concept-drift/lib/python3.12/site-packages (0.21.2)\n",
            "Requirement already satisfied: pandas==2.2.2 in ./concept-drift/lib/python3.12/site-packages (2.2.2)\n",
            "Requirement already satisfied: scipy==1.13.1 in ./concept-drift/lib/python3.12/site-packages (1.13.1)\n",
            "Requirement already satisfied: numpy==1.26.1 in ./concept-drift/lib/python3.12/site-packages (1.26.1)\n",
            "Requirement already satisfied: python-dateutil>=2.8.2 in ./concept-drift/lib/python3.12/site-packages (from pandas==2.2.2) (2.9.0.post0)\n",
            "Requirement already satisfied: pytz>=2020.1 in ./concept-drift/lib/python3.12/site-packages (from pandas==2.2.2) (2025.2)\n",
            "Requirement already satisfied: tzdata>=2022.7 in ./concept-drift/lib/python3.12/site-packages (from pandas==2.2.2) (2025.2)\n",
            "Requirement already satisfied: six>=1.5 in ./concept-drift/lib/python3.12/site-packages (from python-dateutil>=2.8.2->pandas==2.2.2) (1.17.0)\n",
            "Note: you may need to restart the kernel to use updated packages.\n"
          ]
        }
      ],
      "source": [
        "%pip install river pandas==2.2.2 scipy==1.13.1 numpy==1.26.1"
      ]
    },
    {
      "cell_type": "code",
      "execution_count": 2,
      "metadata": {
        "id": "O_H3sdEcRnGZ"
      },
      "outputs": [],
      "source": [
        "import matplotlib.pyplot as plt\n",
        "import yfinance as yf\n",
        "import numpy as np\n",
        "from sklearn.model_selection import train_test_split\n",
        "from river import metrics, preprocessing\n",
        "from classes.superclasse.ModeloBase import ModeloBase"
      ]
    },
    {
      "cell_type": "markdown",
      "metadata": {
        "id": "eDfOTg6jUdIl"
      },
      "source": [
        "# 1.Baixar Dados\n",
        "\n",
        "A função `baixar_dados` baixa os dados históricos de uma ação do Yahoo Finance, permitindo ajustar o período e o intervalo dos dados."
      ]
    },
    {
      "cell_type": "code",
      "execution_count": 3,
      "metadata": {
        "id": "pTPgfGY6Ucff"
      },
      "outputs": [],
      "source": [
        "# Função para baixar dados do Yahoo Finance\n",
        "def baixar_dados(symbol, periodo=\"5y\", intervalo=\"1d\"):\n",
        "    data = yf.download(symbol, period=periodo, interval=intervalo)\n",
        "    return data[\"Close\"].values"
      ]
    },
    {
      "cell_type": "markdown",
      "metadata": {
        "id": "9Jhn5Ty6VAGx"
      },
      "source": [
        "## 2. Criar Janelas Temporais e Normalizar Dados\n",
        "A função `criar_janela_temporal` cria as janelas de entrada e saída para o modelo de previsão. As entradas são geradas com base no número de `lags` definido e as saídas são os valores de fechamento seguintes. A função `Normalizar` transforma os dados para o intervalo de 0 e 1."
      ]
    },
    {
      "cell_type": "code",
      "execution_count": 4,
      "metadata": {
        "id": "5I8eNuvnVA3R"
      },
      "outputs": [],
      "source": [
        "# Função para criar padrões de entrada e saída\n",
        "def criar_janela_temporal(y, lags):\n",
        "    X, Y = [], []\n",
        "    for i in range(len(y) - lags):\n",
        "        X.append(y[i:i+lags])\n",
        "        Y.append(y[i+lags])\n",
        "    return np.array(X).reshape(-1, lags), np.array(Y)"
      ]
    },
    {
      "cell_type": "code",
      "execution_count": 5,
      "metadata": {
        "id": "7YOeQ-VNVDND"
      },
      "outputs": [],
      "source": [
        "def normalizar_serie(serie_temporal: np.ndarray) -> np.ndarray:\n",
        "    # Criando o scaler\n",
        "    scaler = preprocessing.StandardScaler()\n",
        "\n",
        "    # Aprendendo a escala com os dados\n",
        "    for x in serie_temporal:\n",
        "        scaler.learn_one({\"valor\": x[0]})  # Não sobrescrevemos o scaler\n",
        "\n",
        "    # Transformando a série\n",
        "    serie_normalizada = np.array([scaler.transform_one({\"valor\": x[0]})[\"valor\"] for x in serie_temporal])\n",
        "\n",
        "    # Garantindo que o shape permaneça (1244, 1)\n",
        "    return serie_normalizada.reshape(-1, 1)"
      ]
    },
    {
      "cell_type": "markdown",
      "metadata": {
        "id": "rMZ-0ACeVcg2"
      },
      "source": [
        "# 3.Inicializar Modelos"
      ]
    },
    {
      "cell_type": "code",
      "execution_count": 6,
      "metadata": {
        "id": "z8CTH_kQVgA2"
      },
      "outputs": [],
      "source": [
        "def inicializar_modelos(modelo_classe, detector_classe, **kwargs):\n",
        "\n",
        "     # Instancia o modelo com os parâmetros fornecidos\n",
        "     modelo_instancia = modelo_classe(**kwargs)\n",
        "\n",
        "     # Instancia o detector com os parâmetros fornecidos\n",
        "     detector_instancia = detector_classe(**kwargs)\n",
        "\n",
        "     return modelo_instancia, detector_instancia"
      ]
    },
    {
      "cell_type": "markdown",
      "metadata": {
        "id": "6_yNYgj3VlHu"
      },
      "source": [
        "## 4. Treinamento do Modelo de Machine Learning\n",
        "A função `treinamento_modelo` realiza o treinamento inicial do modelo com os primeiros dados disponíveis, usando o tamanho do batch especificado."
      ]
    },
    {
      "cell_type": "code",
      "execution_count": 7,
      "metadata": {
        "id": "mhMLzX-dVl1l"
      },
      "outputs": [],
      "source": [
        "def treinamento_modelo_batch(modelo, X, y):\n",
        "    # Treinamento do modelo usando o método 'treinar' da subclasse\n",
        "    modelo.treinar(X, y)\n",
        "\n",
        "    # Cálculo do erro médio (adapte para modelos online, se necessário)\n",
        "\n",
        "    if isinstance(modelo, ModeloBase):  # Verifica se é uma instância da superclasse dos modelos offline\n",
        "      erro_medio = np.abs(np.mean(y - modelo.prever(X))) # Calcula erro para modelos offline\n",
        "\n",
        "    else: # Senão calcula para modelos online\n",
        "      predicoes = []\n",
        "      for i in range(len(X)):\n",
        "          predicoes.append(modelo.prever(X[i].reshape(1, -1))[0]) # Faz as predições para cada exemplo em X\n",
        "      erro_medio = np.abs(np.mean(y.ravel() - np.array(predicoes))) # Calcula o erro médio\n",
        "\n",
        "    return erro_medio"
      ]
    },
    {
      "cell_type": "code",
      "execution_count": 8,
      "metadata": {
        "id": "wlDQyKeRXbtw"
      },
      "outputs": [],
      "source": [
        "def treinamento_online_many(modelo, X, y, tamanho_batch):  # Adiciona 'tamanho_batch' como parâmetro\n",
        "    # Treina o modelo com os primeiros 'tamanho_batch' exemplos\n",
        "    modelo.treinar(X[:tamanho_batch], y[:tamanho_batch])\n",
        "    return modelo"
      ]
    },
    {
      "cell_type": "code",
      "execution_count": 9,
      "metadata": {
        "id": "JoK3QtIkX9jz"
      },
      "outputs": [],
      "source": [
        "def prequential_batch(X, Y, tamanho_batch, modelo_classe, detector_classe, **kwargs):\n",
        "    \"\"\"\n",
        "    Realiza a previsão de valores continuamente, detectando mudanças nos dados (drift)\n",
        "    e retreinando o modelo quando necessário.\n",
        "\n",
        "    Args:\n",
        "        X: Dados de entrada.\n",
        "        Y: Dados de saída.\n",
        "        tamanho_batch: Tamanho do batch para treinamento inicial e retreinamento.\n",
        "        modelo_classe: Classe do modelo a ser usado (subclasse de ModeloBase).\n",
        "        detector_classe: Classe do detector de drift a ser usado (subclasse de DetectorDriftBase).\n",
        "        **kwargs: Parâmetros adicionais para o modelo e detector.\n",
        "\n",
        "    Returns:\n",
        "        predicoes: Lista de previsões.\n",
        "        deteccoes: Lista de índices onde o drift foi detectado.\n",
        "    \"\"\"\n",
        "    predicoes, erros, deteccoes = [], [], []\n",
        "    mae = metrics.MAE()\n",
        "\n",
        "    # Inicializando o modelo e o detector usando as classes\n",
        "    modelo, detector = inicializar_modelos(modelo_classe, detector_classe, **kwargs)\n",
        "\n",
        "    # Treina o modelo e atualiza o detector\n",
        "    erro_inicial = treinamento_modelo_batch(modelo, X[:tamanho_batch], Y[:tamanho_batch])\n",
        "    detector.atualizar(erro_inicial)  # Usa o método 'atualizar' da subclasse\n",
        "\n",
        "    drift_ativo = False\n",
        "\n",
        "    for i in range(tamanho_batch, len(X)):\n",
        "        # Realiza a predição usando o método 'prever' da subclasse\n",
        "        entrada = X[i].reshape(1, -1)\n",
        "        y_pred = modelo.prever(entrada)[0]\n",
        "        erro = abs(Y[i][0] - y_pred)\n",
        "\n",
        "        predicoes.append(y_pred)\n",
        "        erros.append(erro)\n",
        "        mae.update(Y[i][0], y_pred)\n",
        "\n",
        "        # Atualiza o detector usando o método 'atualizar' da subclasse\n",
        "        detector.atualizar(erro)\n",
        "\n",
        "        # Se drift for detectado pela primeira vez\n",
        "        if detector.drift_detectado and not drift_ativo:  # Usa a propriedade 'drift_detectado'\n",
        "            deteccoes.append(i)\n",
        "            print(f\"\\nMudança detectada no índice {i}, começando a coletar dados para retreino...\")\n",
        "            drift_ativo = True\n",
        "            janela_X, janela_y = [], []\n",
        "\n",
        "        # Se drift já foi detectado, inicia-se a coleta dos dados\n",
        "        if drift_ativo:\n",
        "            janela_X.append(X[i])\n",
        "            janela_y.append(Y[i])\n",
        "\n",
        "            if len(janela_X) >= tamanho_batch:\n",
        "                print(f\"Janela completa com {len(janela_X)} amostras. Retreinado com dados do índice {i - tamanho_batch} até {i}.\")\n",
        "                drift_ativo = False\n",
        "\n",
        "                # Inicializando o modelo e o detector com novas instâncias\n",
        "                modelo, detector = inicializar_modelos(modelo_classe, detector_classe, **kwargs)\n",
        "\n",
        "                # Treina o modelo e atualiza o detector\n",
        "                erro_inicial = treinamento_modelo_batch(modelo, np.array(janela_X), np.array(janela_y))\n",
        "                detector.atualizar(erro_inicial)  # Usa o método 'atualizar' da subclasse\n",
        "\n",
        "\n",
        "    print(\"Modelo utilizado:\", modelo)\n",
        "    print(\"Detector utilizado:\", detector)\n",
        "    print(f\"MAE Modelo Batch: {mae.get()[0]}\")\n",
        "    return predicoes, deteccoes"
      ]
    },
    {
      "cell_type": "code",
      "execution_count": 10,
      "metadata": {
        "id": "F8F2bEyCYImU"
      },
      "outputs": [],
      "source": [
        "def prequential_passivo(X, Y, tamanho_batch, modelo_classe, **kwargs):\n",
        "    \"\"\"\n",
        "    Realiza a previsão de valores continuamente para algoritmos online,\n",
        "    sem detecção de drift e retreinamento.\n",
        "\n",
        "    Args:\n",
        "        X: Dados de entrada.\n",
        "        Y: Dados de saída.\n",
        "        tamanho_batch: Tamanho do batch para treinamento inicial.\n",
        "        modelo_classe: Classe do modelo a ser usado (subclasse de ModeloBase).\n",
        "        **kwargs: Parâmetros adicionais para o modelo.\n",
        "\n",
        "    Returns:\n",
        "        predicoes: Lista de previsões.\n",
        "    \"\"\"\n",
        "    predicoes = []\n",
        "    mae = metrics.MAE()\n",
        "\n",
        "    # Inicializa o modelo usando a classe e kwargs\n",
        "    modelo = modelo_classe(**kwargs)\n",
        "\n",
        "    # Treina o modelo com os primeiros exemplos usando treinamento_online_many\n",
        "    modelo = treinamento_online_many(modelo, X, Y, tamanho_batch)\n",
        "\n",
        "    for i in range(tamanho_batch, len(X)):\n",
        "        # Converte a entrada para o formato que o modelo online espera\n",
        "        entrada_dict = {f\"t{j+1}\": value for j, value in enumerate(X[i])}\n",
        "\n",
        "        # Realiza a predição usando o método 'prever' da subclasse\n",
        "        y_pred = modelo.prever([X[i]])  # Passa a entrada como uma lista de uma única amostra\n",
        "\n",
        "        predicoes.append(y_pred)\n",
        "        mae.update(Y[i][0], y_pred)\n",
        "\n",
        "        # Atualiza o modelo online usando o método 'treinar' da subclasse\n",
        "        modelo.treinar([X[i]], [Y[i]])\n",
        "\n",
        "    print(\"Modelo utilizado:\", modelo)\n",
        "    print(f\"MAE Modelo Online: {mae.get()}\")\n",
        "    return predicoes"
      ]
    },
    {
      "cell_type": "markdown",
      "metadata": {
        "id": "LqBZYoHRYPHm"
      },
      "source": [
        "# Plot"
      ]
    },
    {
      "cell_type": "code",
      "execution_count": 11,
      "metadata": {
        "id": "9ND7yjnqYOWj"
      },
      "outputs": [],
      "source": [
        "def plotar_resultados(Y, lista_predicoes, labels_algoritmos, deteccoes, tamanho_batch):\n",
        "    plt.figure(figsize=(15, 8))\n",
        "    indices = range(tamanho_batch, tamanho_batch + len(Y[tamanho_batch:]))\n",
        "\n",
        "    # Plotar valores verdadeiros\n",
        "    plt.plot(indices, Y[tamanho_batch:tamanho_batch + len(indices)],\n",
        "             label=\"Verdadeiro\", linewidth=1.2)\n",
        "\n",
        "    # Plotar cada conjunto de previsões\n",
        "    for i, predicoes in enumerate(lista_predicoes):\n",
        "        Y_plot = Y[tamanho_batch:tamanho_batch + len(predicoes)]\n",
        "        predicoes = predicoes[:len(Y_plot)]  # Garantir mesmo tamanho\n",
        "        label = labels_algoritmos[i] if i < len(labels_algoritmos) else f\"Previsões {i+1}\"\n",
        "        plt.plot(indices[:len(predicoes)], predicoes, label=label, linewidth=1.2)\n",
        "\n",
        "    # Aumentar o tamanho dos pontos de detecção\n",
        "    if deteccoes:\n",
        "        plt.scatter(deteccoes, [Y[i] for i in deteccoes], color='red',\n",
        "                   label=\"Drift Detectado\", zorder=3, s=80)\n",
        "\n",
        "        # Destacar áreas pós-retreino com fundo colorido\n",
        "        for idx, d in enumerate(deteccoes):\n",
        "            next_end = min(d + tamanho_batch, indices[-1])\n",
        "            plt.axvspan(d, next_end, alpha=0.1, color='green', label='_nolegend_')\n",
        "\n",
        "        print(\"\\nDrift detectado nos índices:\", deteccoes)\n",
        "    else:\n",
        "        print(\"\\nNenhum drift detectado.\")\n",
        "\n",
        "    plt.legend(fontsize=12)\n",
        "    plt.title(\"Predições e Detecção de Drift com Retreino\", fontsize=14)\n",
        "    plt.grid(True, alpha=0.4)\n",
        "\n",
        "    # Adicionar anotações para mostrar diferenças\n",
        "    for i in range(len(deteccoes)):\n",
        "        d = deteccoes[i]\n",
        "        if d + 5 < len(indices):\n",
        "            plt.annotate(f\"Retreino\",\n",
        "                         xy=(d, Y[d]),\n",
        "                         xytext=(d+10, Y[d]+0.1),\n",
        "                         arrowprops=dict(facecolor='black', shrink=0.05, width=1.5),\n",
        "                         fontsize=10)\n",
        "\n",
        "    plt.show()"
      ]
    },
    {
      "cell_type": "markdown",
      "metadata": {
        "id": "_5530_-8YUG5"
      },
      "source": [
        "# Roda Roda Jequiti"
      ]
    },
    {
      "cell_type": "code",
      "execution_count": 12,
      "metadata": {
        "id": "v4_UUyEvYToe"
      },
      "outputs": [],
      "source": [
        "series = [\n",
        "    \"AAPL\",\n",
        "    \"B3SA3.SA\"\n",
        "    \"^IXIC\",\n",
        "    \"^DJI\",\n",
        "    \"^GSPC\",\n",
        "    \"^BVSP\",\n",
        "    \"USDBRL=X\"\n",
        "]"
      ]
    },
    {
      "cell_type": "code",
      "execution_count": 13,
      "metadata": {},
      "outputs": [],
      "source": [
        "from classes.detectores.ADWINDetector import ADWINDetector\n",
        "from classes.detectores.DDMDetector import DDMDetector\n",
        "from classes.detectores.EDDMDetector import EDDMDetector \n",
        "from classes.detectores.FHDDMDetector import FHDDMDetector\n",
        "from classes.detectores.HDDM_ADetector import HDDM_ADetector \n",
        "from classes.detectores.PageHinkleyDetector import PageHinkleyDetector\n",
        "from classes.detectores.HDDM_WDetector import HDDM_WDetector\n",
        "from classes.modelosOffline.LinearRegressionModelo import LinearRegressionModelo\n",
        "from classes.modelosOnline.BayesianLinearRegressionModelo import BayesianLinearRegressionModelo \n",
        "from classes.modelosOnline.HoeffdingTreeRegressorModelo import HoeffdingTreeRegressorModelo \n",
        "from classes.modelosOnline.KNNRegressorOnlineModelo import KNNRegressorOnlineModelo \n",
        "from classes.modelosOnline.LinearRegressionOnlineModelo import LinearRegressionOnlineModelo"
      ]
    },
    {
      "cell_type": "code",
      "execution_count": 14,
      "metadata": {
        "colab": {
          "base_uri": "https://localhost:8080/",
          "height": 1000
        },
        "id": "68f_nlYzY9GK",
        "outputId": "65d10ca5-3177-40e8-e3c4-12f4343555a2"
      },
      "outputs": [
        {
          "name": "stdout",
          "output_type": "stream",
          "text": [
            "YF.download() has changed argument auto_adjust default to True\n"
          ]
        },
        {
          "name": "stderr",
          "output_type": "stream",
          "text": [
            "[*********************100%***********************]  1 of 1 completed\n"
          ]
        },
        {
          "name": "stdout",
          "output_type": "stream",
          "text": [
            "<class 'classes.modelosOffline.LinearRegressionModelo.LinearRegressionModelo'>\n",
            "Modelo utilizado: <classes.modelosOffline.LinearRegressionModelo.LinearRegressionModelo object at 0x30108f6b0>\n",
            "Detector utilizado: <classes.detectores.DDMDetector.DDMDetector object at 0x17fb59850>\n",
            "MAE Modelo Batch: 0.08620558898706357\n",
            "Modelo utilizado: <classes.modelosOffline.LinearRegressionModelo.LinearRegressionModelo object at 0x300089c40>\n",
            "Detector utilizado: <classes.detectores.ADWINDetector.ADWINDetector object at 0x16598fe00>\n",
            "MAE Modelo Batch: 0.08620558898706357\n",
            "Modelo utilizado: <classes.modelosOffline.LinearRegressionModelo.LinearRegressionModelo object at 0x300089c40>\n",
            "Detector utilizado: <classes.detectores.PageHinkleyDetector.PageHinkleyDetector object at 0x17fb59850>\n",
            "MAE Modelo Batch: 0.08620558898706357\n",
            "Modelo utilizado: <classes.modelosOffline.LinearRegressionModelo.LinearRegressionModelo object at 0x30108f6b0>\n",
            "Detector utilizado: <classes.detectores.EDDMDetector.EDDMDetector object at 0x17f689340>\n",
            "MAE Modelo Batch: 0.08620558898706357\n",
            "Modelo utilizado: <classes.modelosOffline.LinearRegressionModelo.LinearRegressionModelo object at 0x3007377a0>\n",
            "Detector utilizado: <classes.detectores.FHDDMDetector.FHDDMDetector object at 0x30108f6b0>\n",
            "MAE Modelo Batch: 0.08620558898706357\n",
            "Modelo utilizado: <classes.modelosOffline.LinearRegressionModelo.LinearRegressionModelo object at 0x17f1d42f0>\n",
            "Detector utilizado: <classes.detectores.HDDM_ADetector.HDDM_ADetector object at 0x3007377a0>\n",
            "MAE Modelo Batch: 0.08620558898706357\n",
            "Modelo utilizado: <classes.modelosOffline.LinearRegressionModelo.LinearRegressionModelo object at 0x3001d20f0>\n",
            "Detector utilizado: <classes.detectores.HDDM_WDetector.HDDM_WDetector object at 0x300089c40>\n",
            "MAE Modelo Batch: 0.08620558898706357\n",
            "Modelo utilizado: <classes.modelosOnline.KNNRegressorOnlineModelo.KNNRegressorOnlineModelo object at 0x300c60200>\n",
            "MAE Modelo Online: 0.11318036579853602\n"
          ]
        },
        {
          "ename": "AttributeError",
          "evalue": "'LinearRegression' object has no attribute 'learn_one'",
          "output_type": "error",
          "traceback": [
            "\u001b[31m---------------------------------------------------------------------------\u001b[39m",
            "\u001b[31mAttributeError\u001b[39m                            Traceback (most recent call last)",
            "\u001b[36mCell\u001b[39m\u001b[36m \u001b[39m\u001b[32mIn[14]\u001b[39m\u001b[32m, line 26\u001b[39m\n\u001b[32m     23\u001b[39m \u001b[38;5;66;03m# Prequential passivo (usando classes)\u001b[39;00m\n\u001b[32m     24\u001b[39m \u001b[38;5;66;03m#predicoes_passiva1 = prequential_passivo(X, Y, tamanho_batch, modelo_classe=BayesianLinearRegressionModelo)\u001b[39;00m\n\u001b[32m     25\u001b[39m predicoes_passiva2 = prequential_passivo(X, Y, tamanho_batch, modelo_classe=KNNRegressorOnlineModelo)\n\u001b[32m---> \u001b[39m\u001b[32m26\u001b[39m predicoes_passiva3 = \u001b[43mprequential_passivo\u001b[49m\u001b[43m(\u001b[49m\u001b[43mX\u001b[49m\u001b[43m,\u001b[49m\u001b[43m \u001b[49m\u001b[43mY\u001b[49m\u001b[43m,\u001b[49m\u001b[43m \u001b[49m\u001b[43mtamanho_batch\u001b[49m\u001b[43m,\u001b[49m\u001b[43m \u001b[49m\u001b[43mmodelo_classe\u001b[49m\u001b[43m=\u001b[49m\u001b[43mLinearRegressionOnlineModelo\u001b[49m\u001b[43m)\u001b[49m\n\u001b[32m     27\u001b[39m predicoes_passiva4 = prequential_passivo(X, Y, tamanho_batch, modelo_classe=HoeffdingTreeRegressorModelo)\n\u001b[32m     29\u001b[39m \u001b[38;5;66;03m# Plotando os resultados\u001b[39;00m\n",
            "\u001b[36mCell\u001b[39m\u001b[36m \u001b[39m\u001b[32mIn[10]\u001b[39m\u001b[32m, line 23\u001b[39m, in \u001b[36mprequential_passivo\u001b[39m\u001b[34m(X, Y, tamanho_batch, modelo_classe, **kwargs)\u001b[39m\n\u001b[32m     20\u001b[39m modelo = modelo_classe(**kwargs)\n\u001b[32m     22\u001b[39m \u001b[38;5;66;03m# Treina o modelo com os primeiros exemplos usando treinamento_online_many\u001b[39;00m\n\u001b[32m---> \u001b[39m\u001b[32m23\u001b[39m modelo = \u001b[43mtreinamento_online_many\u001b[49m\u001b[43m(\u001b[49m\u001b[43mmodelo\u001b[49m\u001b[43m,\u001b[49m\u001b[43m \u001b[49m\u001b[43mX\u001b[49m\u001b[43m,\u001b[49m\u001b[43m \u001b[49m\u001b[43mY\u001b[49m\u001b[43m,\u001b[49m\u001b[43m \u001b[49m\u001b[43mtamanho_batch\u001b[49m\u001b[43m)\u001b[49m\n\u001b[32m     25\u001b[39m \u001b[38;5;28;01mfor\u001b[39;00m i \u001b[38;5;129;01min\u001b[39;00m \u001b[38;5;28mrange\u001b[39m(tamanho_batch, \u001b[38;5;28mlen\u001b[39m(X)):\n\u001b[32m     26\u001b[39m     \u001b[38;5;66;03m# Converte a entrada para o formato que o modelo online espera\u001b[39;00m\n\u001b[32m     27\u001b[39m     entrada_dict = {\u001b[33mf\u001b[39m\u001b[33m\"\u001b[39m\u001b[33mt\u001b[39m\u001b[38;5;132;01m{\u001b[39;00mj+\u001b[32m1\u001b[39m\u001b[38;5;132;01m}\u001b[39;00m\u001b[33m\"\u001b[39m: value \u001b[38;5;28;01mfor\u001b[39;00m j, value \u001b[38;5;129;01min\u001b[39;00m \u001b[38;5;28menumerate\u001b[39m(X[i])}\n",
            "\u001b[36mCell\u001b[39m\u001b[36m \u001b[39m\u001b[32mIn[8]\u001b[39m\u001b[32m, line 3\u001b[39m, in \u001b[36mtreinamento_online_many\u001b[39m\u001b[34m(modelo, X, y, tamanho_batch)\u001b[39m\n\u001b[32m      1\u001b[39m \u001b[38;5;28;01mdef\u001b[39;00m\u001b[38;5;250m \u001b[39m\u001b[34mtreinamento_online_many\u001b[39m(modelo, X, y, tamanho_batch):  \u001b[38;5;66;03m# Adiciona 'tamanho_batch' como parâmetro\u001b[39;00m\n\u001b[32m      2\u001b[39m     \u001b[38;5;66;03m# Treina o modelo com os primeiros 'tamanho_batch' exemplos\u001b[39;00m\n\u001b[32m----> \u001b[39m\u001b[32m3\u001b[39m     \u001b[43mmodelo\u001b[49m\u001b[43m.\u001b[49m\u001b[43mtreinar\u001b[49m\u001b[43m(\u001b[49m\u001b[43mX\u001b[49m\u001b[43m[\u001b[49m\u001b[43m:\u001b[49m\u001b[43mtamanho_batch\u001b[49m\u001b[43m]\u001b[49m\u001b[43m,\u001b[49m\u001b[43m \u001b[49m\u001b[43my\u001b[49m\u001b[43m[\u001b[49m\u001b[43m:\u001b[49m\u001b[43mtamanho_batch\u001b[49m\u001b[43m]\u001b[49m\u001b[43m)\u001b[49m\n\u001b[32m      4\u001b[39m     \u001b[38;5;28;01mreturn\u001b[39;00m modelo\n",
            "\u001b[36mFile \u001b[39m\u001b[32m~/Downloads/Concept drift atualizado/classes/modelosOnline/LinearRegressionOnlineModelo.py:13\u001b[39m, in \u001b[36mLinearRegressionOnlineModelo.treinar\u001b[39m\u001b[34m(self, X, y)\u001b[39m\n\u001b[32m     11\u001b[39m \u001b[38;5;28;01mfor\u001b[39;00m i \u001b[38;5;129;01min\u001b[39;00m \u001b[38;5;28mrange\u001b[39m(\u001b[38;5;28mlen\u001b[39m(X)):\n\u001b[32m     12\u001b[39m     X_dict = {\u001b[33mf\u001b[39m\u001b[33m\"\u001b[39m\u001b[33mt\u001b[39m\u001b[38;5;132;01m{\u001b[39;00mj+\u001b[32m1\u001b[39m\u001b[38;5;132;01m}\u001b[39;00m\u001b[33m\"\u001b[39m: value \u001b[38;5;28;01mfor\u001b[39;00m j, value \u001b[38;5;129;01min\u001b[39;00m \u001b[38;5;28menumerate\u001b[39m(X[i])}\n\u001b[32m---> \u001b[39m\u001b[32m13\u001b[39m     \u001b[38;5;28;43mself\u001b[39;49m\u001b[43m.\u001b[49m\u001b[43mmodelo\u001b[49m\u001b[43m.\u001b[49m\u001b[43mlearn_one\u001b[49m(X_dict, y[i][\u001b[32m0\u001b[39m])\n",
            "\u001b[31mAttributeError\u001b[39m: 'LinearRegression' object has no attribute 'learn_one'"
          ]
        }
      ],
      "source": [
        "tamanho_batch, lags = 50, 5\n",
        "\n",
        "# Baixando os dados da ação\n",
        "serie_temporal = baixar_dados(series[-2])\n",
        "\n",
        "# normalizando a série temporal\n",
        "serie_temporal = normalizar_serie(serie_temporal)\n",
        "\n",
        "# Gerando janelas temporais\n",
        "X, Y = criar_janela_temporal(serie_temporal, lags)\n",
        "\n",
        "print(LinearRegressionModelo)\n",
        "\n",
        "# Prequential com detecção de drift (usando classes)\n",
        "predicoes_ativa1, deteccoes = prequential_batch(X, Y, tamanho_batch, modelo_classe=LinearRegressionModelo, detector_classe=DDMDetector)\n",
        "predicoes_ativa2, deteccoes = prequential_batch(X, Y, tamanho_batch, modelo_classe=LinearRegressionModelo, detector_classe=ADWINDetector)\n",
        "predicoes_ativa4, deteccoes = prequential_batch(X, Y, tamanho_batch, modelo_classe=LinearRegressionModelo, detector_classe=PageHinkleyDetector)\n",
        "predicoes_ativa5, deteccoes = prequential_batch(X, Y, tamanho_batch, modelo_classe=LinearRegressionModelo, detector_classe=EDDMDetector)\n",
        "predicoes_ativa6, deteccoes = prequential_batch(X, Y, tamanho_batch, modelo_classe=LinearRegressionModelo, detector_classe=FHDDMDetector)\n",
        "predicoes_ativa7, deteccoes = prequential_batch(X, Y, tamanho_batch, modelo_classe=LinearRegressionModelo, detector_classe=HDDM_ADetector)\n",
        "predicoes_ativa8, deteccoes = prequential_batch(X, Y, tamanho_batch, modelo_classe=LinearRegressionModelo, detector_classe=HDDM_WDetector)\n",
        "\n",
        "# Prequential passivo (usando classes)\n",
        "#predicoes_passiva1 = prequential_passivo(X, Y, tamanho_batch, modelo_classe=BayesianLinearRegressionModelo)\n",
        "predicoes_passiva2 = prequential_passivo(X, Y, tamanho_batch, modelo_classe=KNNRegressorOnlineModelo)\n",
        "predicoes_passiva3 = prequential_passivo(X, Y, tamanho_batch, modelo_classe=LinearRegressionOnlineModelo)\n",
        "predicoes_passiva4 = prequential_passivo(X, Y, tamanho_batch, modelo_classe=HoeffdingTreeRegressorModelo)\n",
        "\n",
        "# Plotando os resultados\n",
        "plotar_resultados(Y, [\n",
        "                      predicoes_ativa1,\n",
        "                      predicoes_ativa2,\n",
        "                      #predicoes_ativa3,\n",
        "                      predicoes_ativa4,\n",
        "                      predicoes_ativa5,\n",
        "                      predicoes_ativa6,\n",
        "                      predicoes_ativa7,\n",
        "                      predicoes_ativa8,\n",
        "                      predicoes_passiva1,\n",
        "                      predicoes_passiva2,\n",
        "                      predicoes_passiva3,\n",
        "                      predicoes_passiva4,\n",
        "                      #predicoes_passiva5\n",
        "                      ],\n",
        "                  [\n",
        "                    \"DDM\",\n",
        "                    \"ADWIN\",\n",
        "                    \"KSWIN\",\n",
        "                    \"PageHinkley\",\n",
        "                    \"EDDM\",\n",
        "                    \"FHDDM\",\n",
        "                    \"HDDM_A\",\n",
        "                    \"HDDM_W\",\n",
        "                    \"BayesianLinearRegression\",\n",
        "                    \"KNNRegressor\",\n",
        "                    \"LinearRegression\",\n",
        "                    \"HoeffdingTreeRegressor\",\n",
        "                    #\"MLPRegressor\"\n",
        "                   ],\n",
        "                  deteccoes, tamanho_batch)"
      ]
    }
  ],
  "metadata": {
    "colab": {
      "provenance": []
    },
    "kernelspec": {
      "display_name": "concept-drift",
      "language": "python",
      "name": "python3"
    },
    "language_info": {
      "codemirror_mode": {
        "name": "ipython",
        "version": 3
      },
      "file_extension": ".py",
      "mimetype": "text/x-python",
      "name": "python",
      "nbconvert_exporter": "python",
      "pygments_lexer": "ipython3",
      "version": "3.12.7"
    }
  },
  "nbformat": 4,
  "nbformat_minor": 0
}
