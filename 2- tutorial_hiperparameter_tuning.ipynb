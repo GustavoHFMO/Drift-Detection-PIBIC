{
 "cells": [
  {
   "cell_type": "markdown",
   "metadata": {},
   "source": [
    "# **1. Download das Bibliotecas**"
   ]
  },
  {
   "cell_type": "code",
   "execution_count": 121,
   "metadata": {},
   "outputs": [],
   "source": [
    "#%pip install river pandas==2.2.2 scipy==1.13.1 numpy==1.26.1"
   ]
  },
  {
   "cell_type": "code",
   "execution_count": 122,
   "metadata": {},
   "outputs": [],
   "source": [
    "#%pip install matplotlib yfinance scikit-learn scikit-optimize"
   ]
  },
  {
   "cell_type": "markdown",
   "metadata": {},
   "source": [
    "# **2. Importações**"
   ]
  },
  {
   "cell_type": "markdown",
   "metadata": {},
   "source": [
    "## Geral"
   ]
  },
  {
   "cell_type": "code",
   "execution_count": 123,
   "metadata": {},
   "outputs": [],
   "source": [
    "# Importação de libs auxiliares\n",
    "import numpy as np\n",
    "import pandas as pd\n",
    "\n",
    "# Importando as classes refatoradas\n",
    "from utils.SeriesProcessor import SeriesProcessor\n",
    "from avaliacao.DriftEvaluator import DriftEvaluator\n",
    "from utils.Visualizer import Visualizer\n",
    "from utils.SaveCSV import SaveCSV\n",
    "\n",
    "# limpar o log\n",
    "import warnings\n",
    "warnings.filterwarnings(\"ignore\")"
   ]
  },
  {
   "cell_type": "markdown",
   "metadata": {},
   "source": [
    "## Importação dos Detectores e Regressores Off-line e On-line"
   ]
  },
  {
   "cell_type": "code",
   "execution_count": 124,
   "metadata": {},
   "outputs": [],
   "source": [
    "# Importando detectores de drift\n",
    "from detectores.ADWINDetector import ADWINDetector\n",
    "from detectores.DDMDetector import DDMDetector\n",
    "from detectores.EDDMDetector import EDDMDetector\n",
    "from detectores.FHDDMDetector import FHDDMDetector\n",
    "from detectores.HDDM_ADetector import HDDM_ADetector\n",
    "from detectores.PageHinkleyDetector import PageHinkleyDetector\n",
    "from detectores.HDDM_WDetector import HDDM_WDetector\n",
    "from detectores.KSWINDetector import KSWINDetector"
   ]
  },
  {
   "cell_type": "code",
   "execution_count": 125,
   "metadata": {},
   "outputs": [],
   "source": [
    "# Importando modelos offline\n",
    "from regressores.modelosOffline.LinearRegressionModelo import LinearRegressionModelo\n",
    "from regressores.modelosOffline.KneighborsRegressorModelo import KNeighborsRegressorModelo\n",
    "from regressores.modelosOffline.LassoRegressionModelo import LassoRegressionModelo\n",
    "from regressores.modelosOffline.RidgeRegressionModelo import RidgeRegressionModelo\n",
    "from regressores.modelosOffline.SVRModelo import SVRModelo\n",
    "from regressores.modelosOffline.RandomForestModelo import RandomForestModelo\n",
    "from regressores.modelosOffline.MLPRegressorModelo import MLPRegressorModelo"
   ]
  },
  {
   "cell_type": "code",
   "execution_count": 126,
   "metadata": {},
   "outputs": [],
   "source": [
    "# Importando modelos online\n",
    "from regressores.modelosOnline.BayesianLinearRegressionModelo import BayesianLinearRegressionModelo\n",
    "from regressores.modelosOnline.HoeffdingTreeRegressorModelo import HoeffdingTreeRegressorModelo\n",
    "from regressores.modelosOnline.KNNRegressorOnlineModelo import KNNRegressorOnlineModelo\n",
    "from regressores.modelosOnline.LinearRegressionOnlineModelo import LinearRegressionOnlineModelo"
   ]
  },
  {
   "cell_type": "markdown",
   "metadata": {},
   "source": [
    "# **3. Dados e Pré-processamento**"
   ]
  },
  {
   "cell_type": "markdown",
   "metadata": {},
   "source": [
    "## Séries Temporais"
   ]
  },
  {
   "cell_type": "code",
   "execution_count": 127,
   "metadata": {},
   "outputs": [],
   "source": [
    "# Lista de séries temporais disponíveis\n",
    "series = [\n",
    "    \"AAPL\",\n",
    "    \"B3SA3.SA\",\n",
    "    \"^IXIC\",\n",
    "    \"^DJI\",\n",
    "    \"^GSPC\",\n",
    "    \"^BVSP\",\n",
    "    \"USDBRL=X\"\n",
    "]"
   ]
  },
  {
   "cell_type": "markdown",
   "metadata": {},
   "source": [
    "## Parâmetros de processamento"
   ]
  },
  {
   "cell_type": "code",
   "execution_count": 128,
   "metadata": {},
   "outputs": [
    {
     "name": "stdout",
     "output_type": "stream",
     "text": [
      "Processando série: ^BVSP\n"
     ]
    }
   ],
   "source": [
    "# Definindo parâmetros para processamento\n",
    "tamanho_batch = 100\n",
    "lags = 5\n",
    "serie_escolhida = series[-2]\n",
    "print(f\"Processando série: {serie_escolhida}\")"
   ]
  },
  {
   "cell_type": "markdown",
   "metadata": {},
   "source": [
    "## Processamento dos dados"
   ]
  },
  {
   "cell_type": "code",
   "execution_count": 129,
   "metadata": {},
   "outputs": [
    {
     "name": "stderr",
     "output_type": "stream",
     "text": [
      "[*********************100%***********************]  1 of 1 completed"
     ]
    },
    {
     "name": "stdout",
     "output_type": "stream",
     "text": [
      "Shape da série após normalização: (1244, 1)\n",
      "Shape dos dados de entrada: (1239, 5)\n",
      "Shape dos dados de saída: (1239, 1)\n"
     ]
    },
    {
     "name": "stderr",
     "output_type": "stream",
     "text": [
      "\n"
     ]
    }
   ],
   "source": [
    "# Baixando os dados da ação\n",
    "serie_temporal = SeriesProcessor.baixar_dados(serie_escolhida)\n",
    "\n",
    "# Normalizando a série temporal\n",
    "serie_temporal = SeriesProcessor.normalizar_serie(serie_temporal)\n",
    "print(f\"Shape da série após normalização: {serie_temporal.shape}\")\n",
    "\n",
    "# Gerando janelas temporais\n",
    "X, Y = SeriesProcessor.criar_janela_temporal(serie_temporal, lags)\n",
    "print(f\"Shape dos dados de entrada: {X.shape}\")\n",
    "print(f\"Shape dos dados de saída: {Y.shape}\")"
   ]
  },
  {
   "cell_type": "markdown",
   "metadata": {},
   "source": [
    "# **4. Definição dos Modelos**"
   ]
  },
  {
   "cell_type": "markdown",
   "metadata": {},
   "source": [
    "## Regressores off-line"
   ]
  },
  {
   "cell_type": "code",
   "execution_count": 130,
   "metadata": {},
   "outputs": [],
   "source": [
    "modelos_offline = [\n",
    "        LinearRegressionModelo,\n",
    "        KNeighborsRegressorModelo,\n",
    "        LassoRegressionModelo,\n",
    "        MLPRegressorModelo,  \n",
    "        RandomForestModelo,\n",
    "        RidgeRegressionModelo,\n",
    "        SVRModelo\n",
    "    ]"
   ]
  },
  {
   "cell_type": "markdown",
   "metadata": {},
   "source": [
    "## Regressores on-line"
   ]
  },
  {
   "cell_type": "code",
   "execution_count": 131,
   "metadata": {},
   "outputs": [],
   "source": [
    "modelos_online = [\n",
    "        BayesianLinearRegressionModelo,\n",
    "        HoeffdingTreeRegressorModelo,\n",
    "        KNNRegressorOnlineModelo,\n",
    "        LinearRegressionOnlineModelo\n",
    "    ]"
   ]
  },
  {
   "cell_type": "markdown",
   "metadata": {},
   "source": [
    "# **5. Otimização de Hiperparâmetros**"
   ]
  },
  {
   "cell_type": "code",
   "execution_count": 1,
   "metadata": {},
   "outputs": [
    {
     "ename": "NameError",
     "evalue": "name 'LinearRegressionModelo' is not defined",
     "output_type": "error",
     "traceback": [
      "\u001b[1;31m---------------------------------------------------------------------------\u001b[0m",
      "\u001b[1;31mNameError\u001b[0m                                 Traceback (most recent call last)",
      "Cell \u001b[1;32mIn[1], line 70\u001b[0m\n\u001b[0;32m     65\u001b[0m modelos_otimizados \u001b[38;5;241m=\u001b[39m {}\n\u001b[0;32m     67\u001b[0m \u001b[38;5;66;03m# Dicionário para mapear nomes de classes para referências reais de classes\u001b[39;00m\n\u001b[0;32m     68\u001b[0m classes_modelos \u001b[38;5;241m=\u001b[39m {\n\u001b[0;32m     69\u001b[0m     \u001b[38;5;28mcls\u001b[39m\u001b[38;5;241m.\u001b[39m\u001b[38;5;18m__name__\u001b[39m: \u001b[38;5;28mcls\u001b[39m \u001b[38;5;28;01mfor\u001b[39;00m \u001b[38;5;28mcls\u001b[39m \u001b[38;5;129;01min\u001b[39;00m\n\u001b[1;32m---> 70\u001b[0m     [\u001b[43mLinearRegressionModelo\u001b[49m, KNeighborsRegressorModelo, LassoRegressionModelo,\n\u001b[0;32m     71\u001b[0m      RandomForestModelo, RidgeRegressionModelo, SVRModelo,\n\u001b[0;32m     72\u001b[0m      BayesianLinearRegressionModelo, HoeffdingTreeRegressorModelo,\n\u001b[0;32m     73\u001b[0m      KNNRegressorOnlineModelo, LinearRegressionOnlineModelo]\n\u001b[0;32m     74\u001b[0m }\n\u001b[0;32m     76\u001b[0m \u001b[38;5;28;01mfor\u001b[39;00m nome_modelo, params \u001b[38;5;129;01min\u001b[39;00m parametros_otimizados\u001b[38;5;241m.\u001b[39mitems():\n\u001b[0;32m     77\u001b[0m     \u001b[38;5;66;03m# Extrai o nome da classe do nome do modelo\u001b[39;00m\n\u001b[0;32m     78\u001b[0m     nome_classe \u001b[38;5;241m=\u001b[39m nome_modelo\u001b[38;5;241m.\u001b[39msplit(\u001b[38;5;124m'\u001b[39m\u001b[38;5;124m_\u001b[39m\u001b[38;5;124m'\u001b[39m)[\u001b[38;5;241m0\u001b[39m]\n",
      "\u001b[1;31mNameError\u001b[0m: name 'LinearRegressionModelo' is not defined"
     ]
    }
   ],
   "source": [
    "# Controle para executar ou pular otimização\n",
    "executar_otimizacao = False #Mude para True quando quiser otimizar novamente\n",
    "\n",
    "if executar_otimizacao:\n",
    "    # Lista de modelos a otimizar (classes)\n",
    "    modelos_offline = [\n",
    "        LinearRegressionModelo,\n",
    "        KNeighborsRegressorModelo,\n",
    "        LassoRegressionModelo,\n",
    "        #MLPRegressorModelo,  # Comentado por ser mais lento\n",
    "        RandomForestModelo,\n",
    "        RidgeRegressionModelo,\n",
    "        SVRModelo\n",
    "    ]\n",
    "\n",
    "    modelos_online = [\n",
    "        BayesianLinearRegressionModelo,\n",
    "        HoeffdingTreeRegressorModelo,\n",
    "        KNNRegressorOnlineModelo,\n",
    "        LinearRegressionOnlineModelo\n",
    "    ]\n",
    "\n",
    "    # Inicializar o otimizador\n",
    "    optimizer = OtimizadorBayesiano(n_iter=20, cv=3, random_state=42)\n",
    "\n",
    "    # Otimizando todos os modelos\n",
    "    modelos_otimizados, parametros_otimizados = Optimizer.otimizar_modelos_offline(\n",
    "        X, Y, tamanho_batch, lags=lags, optimizer=optimizer,\n",
    "        modelos_offline=modelos_offline,\n",
    "    )\n",
    "\n",
    "    # Salvar parâmetros otimizados para uso futuro\n",
    "    import json\n",
    "    with open('parametros_otimizados.json', 'w') as f:\n",
    "        # Converter valores não serializáveis para strings\n",
    "        params_serializaveis = {}\n",
    "        for modelo, params in parametros_otimizados.items():\n",
    "            params_serializaveis[modelo] = {k: str(v) for k, v in params.items()}\n",
    "        json.dump(params_serializaveis, f, indent=4)\n",
    "\n",
    "    print(\"Parâmetros otimizados salvos em 'parametros_otimizados.json'\")\n",
    "else:\n",
    "    # Carregar parâmetros já otimizados\n",
    "    import json\n",
    "    import os\n",
    "    import ast\n",
    "\n",
    "    if os.path.exists('parametros_otimizados.json'):\n",
    "        with open('parametros_otimizados.json', 'r') as f:\n",
    "            params_carregados = json.load(f)\n",
    "\n",
    "        # Convertendo strings de volta para valores adequados\n",
    "        parametros_otimizados = {}\n",
    "        for modelo, params in params_carregados.items():\n",
    "            parametros_otimizados[modelo] = {}\n",
    "            for k, v in params.items():\n",
    "                # Tenta converter strings para valores Python\n",
    "                try:\n",
    "                    parametros_otimizados[modelo][k] = ast.literal_eval(v)\n",
    "                except (ValueError, SyntaxError):\n",
    "                    # Se falhar, mantém como string\n",
    "                    parametros_otimizados[modelo][k] = v\n",
    "\n",
    "        # Instanciando modelos com parâmetros otimizados\n",
    "        modelos_otimizados = {}\n",
    "\n",
    "        # Dicionário para mapear nomes de classes para referências reais de classes\n",
    "        classes_modelos = {\n",
    "            cls.__name__: cls for cls in\n",
    "            [LinearRegressionModelo, KNeighborsRegressorModelo, LassoRegressionModelo,\n",
    "             RandomForestModelo, RidgeRegressionModelo, SVRModelo,\n",
    "             BayesianLinearRegressionModelo, HoeffdingTreeRegressorModelo,\n",
    "             KNNRegressorOnlineModelo, LinearRegressionOnlineModelo]\n",
    "        }\n",
    "\n",
    "        for nome_modelo, params in parametros_otimizados.items():\n",
    "            # Extrai o nome da classe do nome do modelo\n",
    "            nome_classe = nome_modelo.split('_')[0]\n",
    "            if nome_classe in classes_modelos:\n",
    "                classe_modelo = classes_modelos[nome_classe]\n",
    "                modelos_otimizados[nome_modelo] = classe_modelo(**params)\n",
    "            else:\n",
    "                print(f\"Aviso: Classe {nome_classe} não encontrada!\")\n",
    "\n",
    "        print(f\"Carregados {len(modelos_otimizados)} modelos com parâmetros otimizados\")\n",
    "    else:\n",
    "        print(\"Arquivo de parâmetros não encontrado. Execute a otimização primeiro.\")"
   ]
  }
 ],
 "metadata": {
  "kernelspec": {
   "display_name": "Python 3",
   "language": "python",
   "name": "python3"
  },
  "language_info": {
   "codemirror_mode": {
    "name": "ipython",
    "version": 3
   },
   "file_extension": ".py",
   "mimetype": "text/x-python",
   "name": "python",
   "nbconvert_exporter": "python",
   "pygments_lexer": "ipython3",
   "version": "3.12.5"
  }
 },
 "nbformat": 4,
 "nbformat_minor": 2
}
